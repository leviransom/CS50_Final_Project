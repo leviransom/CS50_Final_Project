{
 "cells": [
  {
   "cell_type": "markdown",
   "metadata": {},
   "source": [
    "Create a variable containing a URL from IMDSB. Create a response variable containing an http get request to the URL. If the status code = 200 this means the get request was succesfull. If the status code is indeed 200, it prints the response object and then calls dir(r) to display a list of all the attributes and methods available for the response object."
   ]
  },
  {
   "cell_type": "code",
   "execution_count": null,
   "metadata": {},
   "outputs": [],
   "source": [
    "\n",
    "import re\n",
    "import requests\n",
    "the = \"the \"\n",
    "minor_words = [\"an\", \"the\", \"and\", \"but\", \"or\", \"for\", \"nor\", \"in\", \"on\", \"under\", \"with\", \"to\", \"of\", \"by\", \"as\"]\n",
    "movie_name = input(\"Insert a movie you'd like to learn more about!: \").strip().title()\n",
    "words = movie_name.split()\n",
    "nmn = \"\"\n",
    "for word in words:\n",
    "    if word.lower() in minor_words:\n",
    "        word = word.lower()\n",
    "        nmn += f\"{word} \"\n",
    "        \n",
    "    else:\n",
    "        nmn += f\"{word} \"\n",
    "\n",
    "if nmn.lower().startswith(the):\n",
    "    nmn = nmn.replace(the, \"\")\n",
    "    nmn = nmn.strip() + \",-The\"\n",
    "nmn = nmn.strip().replace(\" \", \"-\")\n",
    "movie = (nmn+\".html\")\n",
    "\n",
    "url = f\"https://imsdb.com/scripts/{movie}\"\n",
    "print(url)\n",
    "\n",
    "response = requests.get(url)\n",
    "if response.status_code == 200:\n",
    "    print(response)\n",
    "    print(dir(response))\n",
    "    \n",
    "    #print(response.text)\n",
    "    "
   ]
  },
  {
   "cell_type": "code",
   "execution_count": null,
   "metadata": {},
   "outputs": [],
   "source": []
  },
  {
   "cell_type": "markdown",
   "metadata": {},
   "source": [
    "Scrape the specific Data we want(a script in this case) and write it to a seperate file with code like this."
   ]
  },
  {
   "cell_type": "code",
   "execution_count": null,
   "metadata": {},
   "outputs": [],
   "source": [
    "from bs4 import BeautifulSoup\n",
    "\n",
    "soup = BeautifulSoup(response.text, \"html\")\n",
    "script = soup.find(\"pre\")\n",
    "with open(\"script1.txt\", \"w\") as file:\n",
    "    file.write(script.text)"
   ]
  },
  {
   "cell_type": "markdown",
   "metadata": {},
   "source": [
    "Create a script line counter using a simple for loop with code like this. "
   ]
  },
  {
   "cell_type": "code",
   "execution_count": null,
   "metadata": {},
   "outputs": [],
   "source": [
    "with open(\"script1.txt\", \"r\") as file:\n",
    "    counter = 0\n",
    "    for line in file:\n",
    "        if line.isspace():\n",
    "            continue\n",
    "        else:\n",
    "            counter += 1 \n",
    "    print(f\"There are {counter} lines in this script!\")"
   ]
  },
  {
   "cell_type": "markdown",
   "metadata": {},
   "source": [
    "Create a word counter of both spoken/ non spoken words with code like this."
   ]
  },
  {
   "cell_type": "code",
   "execution_count": null,
   "metadata": {},
   "outputs": [],
   "source": [
    "import re\n",
    "with open(\"script1.txt\", \"r\") as file:\n",
    "    text = file.read()\n",
    "    word_list = re.findall(r'\\b\\w+\\b', text)\n",
    "    word_count = len(word_list)\n",
    "    print(f\"There are {word_count} words in this script!\")"
   ]
  },
  {
   "cell_type": "markdown",
   "metadata": {},
   "source": [
    "Create a specific word counter with code like this."
   ]
  },
  {
   "cell_type": "code",
   "execution_count": null,
   "metadata": {},
   "outputs": [],
   "source": [
    "with open(\"script1.txt\", \"r\") as file:\n",
    "    spec_word = input(\"Insert a word: \").strip()\n",
    "    text = file.read()\n",
    "    word_list = re.findall(fr\"{spec_word}\", text, re.IGNORECASE)\n",
    "    print(len(word_list))"
   ]
  },
  {
   "cell_type": "markdown",
   "metadata": {},
   "source": [
    "Create functionality where a line/lines are displayed that use a specific word"
   ]
  },
  {
   "cell_type": "code",
   "execution_count": null,
   "metadata": {},
   "outputs": [],
   "source": [
    "import re\n",
    "with open(\"script1.txt\", \"r\") as file:\n",
    "    spec_word = input(\"Insert a word: \").strip()\n",
    "    file_contents = file.read()\n",
    "    sentence_pattern = r'(?<=[.!?])\\s+'\n",
    "    sentences = re.split(sentence_pattern, file_contents)\n",
    "    for sentence in sentences:\n",
    "        if re.search(re.escape(spec_word), sentence, re.IGNORECASE):\n",
    "            print(sentence)\n",
    "        "
   ]
  },
  {
   "cell_type": "code",
   "execution_count": null,
   "metadata": {},
   "outputs": [],
   "source": [
    "import re\n",
    "\n",
    "with open(\"script1.txt\", \"r\") as file:\n",
    "    spec_word = input(\"Insert a word: \").strip()\n",
    "    sentence = \"\"\n",
    "    in_sentence = False\n",
    "\n",
    "    for line in file:\n",
    "        line = line.strip()  # Remove leading/trailing whitespace\n",
    "\n",
    "        if re.search(re.escape(spec_word), line, re.IGNORECASE):\n",
    "            sentence += line\n",
    "            in_sentence = True\n",
    "        elif in_sentence:\n",
    "            sentence += \" \" + line\n",
    "            if re.search(r'[.!?]$', sentence):\n",
    "                print(sentence)\n",
    "                sentence = \"\"\n",
    "                in_sentence = False"
   ]
  },
  {
   "cell_type": "markdown",
   "metadata": {},
   "source": [
    "Print all the lines of a specific character with code like this. "
   ]
  },
  {
   "cell_type": "code",
   "execution_count": null,
   "metadata": {},
   "outputs": [],
   "source": [
    "# Open the script file for reading\n",
    "with open('script1.txt', 'r') as file:\n",
    "    script_lines = file.readlines()\n",
    "\n",
    "# Define a list to store Jordan's lines\n",
    "char_lines = []\n",
    "\n",
    "# Variable to keep track of whether the current line is part of Jordan's lines\n",
    "is_char_line = False\n",
    "\n",
    "# Iterate through the lines and scrape Jordan's lines\n",
    "char = input(\"Insert Character: \").strip().upper()\n",
    "for line in script_lines:\n",
    "    if line.strip().startswith(char):\n",
    "        # A line starting with \"JORDAN\" indicates the start of Jordan's lines\n",
    "        is_char_line = True\n",
    "        char_lines.append(line.strip())\n",
    "    elif is_char_line and line.strip():\n",
    "        # If is_jordan_line is True, and the line is not empty, add it to Jordan's lines\n",
    "        char_lines.append(line.strip())\n",
    "    else:\n",
    "        # If a line doesn't start with \"JORDAN\" and is empty, it's not part of Jordan's lines\n",
    "        is_char_line = False\n",
    "\n",
    "# Print Jordan's lines\n",
    "for line in char_lines:\n",
    "    print(line)\n"
   ]
  },
  {
   "cell_type": "markdown",
   "metadata": {},
   "source": [
    "Print the number of a specific charcters lines with code like this."
   ]
  },
  {
   "cell_type": "code",
   "execution_count": null,
   "metadata": {},
   "outputs": [],
   "source": [
    "import re\n",
    "with open('script1.txt', 'r') as file:\n",
    "    #create a list of lines within the file name it script_lines\n",
    "    script_lines = file.readlines()\n",
    "char_lines = []\n",
    "# Variable to keep track of whether the current line is part of Jordan's lines\n",
    "is_char_line = False\n",
    "\n",
    "character = input(\"Insert a characters name: \").strip().upper()\n",
    "for line in script_lines:\n",
    "    if line.strip().startswith(character):\n",
    "        is_char_line = True\n",
    "        char_lines.append(line.strip())\n",
    "    elif is_char_line and line.strip():\n",
    "        char_lines.append(line.strip())\n",
    "    else:\n",
    "        is_char_line = False\n",
    "    number_of_characters_lines = 0\n",
    "    list_of_lines = []\n",
    "for line in char_lines:\n",
    "    if line.startswith(character):\n",
    "        continue\n",
    "    if \"Buff Revised Pages\" in line:\n",
    "        continue\n",
    "    elif re.match(r'^[0-9]+\\.$', line):\n",
    "        continue\n",
    "\n",
    "    else:\n",
    "        number_of_characters_lines += 1\n",
    "        list_of_lines.append(line)\n",
    "\n",
    "\n",
    "print(f\"The number of lines {character.capitalize()} has is {number_of_characters_lines}\")"
   ]
  },
  {
   "cell_type": "markdown",
   "metadata": {},
   "source": [
    "Create a way for users to type in a movie to search and see if it is real or in the data base."
   ]
  },
  {
   "cell_type": "markdown",
   "metadata": {},
   "source": [
    "Create functionality in which director, cast, name of movie, date of movie, and summary"
   ]
  }
 ],
 "metadata": {
  "kernelspec": {
   "display_name": "Python 3",
   "language": "python",
   "name": "python3"
  },
  "language_info": {
   "codemirror_mode": {
    "name": "ipython",
    "version": 3
   },
   "file_extension": ".py",
   "mimetype": "text/x-python",
   "name": "python",
   "nbconvert_exporter": "python",
   "pygments_lexer": "ipython3",
   "version": "3.10.6"
  },
  "orig_nbformat": 4
 },
 "nbformat": 4,
 "nbformat_minor": 2
}
