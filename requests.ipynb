{
 "cells": [
  {
   "cell_type": "markdown",
   "metadata": {},
   "source": [
    "This code uses the request library to make a HTTP GET request to store a response object."
   ]
  },
  {
   "cell_type": "code",
   "execution_count": null,
   "metadata": {
    "tags": [
     "requests information from the following URL"
    ]
   },
   "outputs": [],
   "source": [
    "from bs4 import BeautifulSoup\n",
    "import requests\n",
    "import re\n",
    "\n",
    "\n",
    "r = requests.get(\"https://imsdb.com/scripts/Joker.html\")\n",
    "\n",
    "if r.status_code == 200:\n",
    "    print(r)\n",
    "    print(dir(r))\n",
    "    print(r.content)"
   ]
  },
  {
   "cell_type": "markdown",
   "metadata": {},
   "source": [
    "This cell will open and write to a new file called \"scripts.txt\" using the text attribute of the response object stored in r."
   ]
  },
  {
   "cell_type": "code",
   "execution_count": null,
   "metadata": {},
   "outputs": [],
   "source": [
    "with open(\"scripts.txt\", \"w\") as file:\n",
    "    file.write(r.text)"
   ]
  },
  {
   "cell_type": "markdown",
   "metadata": {},
   "source": [
    "This cell will use the bs4 library to create a BeautifulSoup object using the text attribute of the r object."
   ]
  },
  {
   "cell_type": "code",
   "execution_count": null,
   "metadata": {},
   "outputs": [],
   "source": [
    "soup = BeautifulSoup(r.text, \"html\")\n",
    "print(soup)\n",
    "#print(soup.prettify())"
   ]
  },
  {
   "cell_type": "code",
   "execution_count": null,
   "metadata": {},
   "outputs": [],
   "source": [
    "soup.find('div')"
   ]
  },
  {
   "cell_type": "code",
   "execution_count": null,
   "metadata": {},
   "outputs": [],
   "source": [
    "#soup.find_all('div')\n",
    "soup.find_all('pre')"
   ]
  },
  {
   "cell_type": "code",
   "execution_count": 10,
   "metadata": {},
   "outputs": [],
   "source": [
    "\n",
    "url = \"https://imsdb.com/scripts/Joker.html\"\n",
    "#url = \"https://imsdb.com/scripts/2012.html\"\n",
    "response = requests.get(url)\n",
    "soup = BeautifulSoup(response.text, \"html\")\n",
    "script = soup.find('pre')\n",
    "with open(\"script.txt\", \"w\") as file:\n",
    "    punctuation_marks = ['.', ',', ';', ':', \"'\", '\"', '!', '?', '-', '(', ')', '...', '&', '%', ' ']\n",
    "    file.write(script.text)\n",
    "    #for line in script.text:\n",
    "       # file.write(line)\n",
    "\n",
    "#CREATE A FILE OF SCRIPT INFO ONLY FROM IMSDb"
   ]
  },
  {
   "cell_type": "code",
   "execution_count": null,
   "metadata": {},
   "outputs": [],
   "source": [
    "with open(\"script.txt\", \"r\") as file:\n",
    "    counter = 0\n",
    "    for line in file:\n",
    "        if line.isspace():\n",
    "            continue\n",
    "        else:\n",
    "            counter += 1\n",
    "    print(f\"There are {counter} lines in this script!\")\n",
    "    #SCRIPT LINE COUNTER"
   ]
  },
  {
   "cell_type": "code",
   "execution_count": 13,
   "metadata": {},
   "outputs": [
    {
     "name": "stdout",
     "output_type": "stream",
     "text": [
      "There are 26162 words in this script!\n"
     ]
    }
   ],
   "source": [
    "with open(\"script.txt\", \"r\") as file:\n",
    "    text = file.read()\n",
    "    words = text.split()\n",
    "    pattern = re.compile(r'^\\D+$')\n",
    "    filtered_words = []\n",
    "    for word in words:\n",
    "        if pattern.match(word):\n",
    "            filtered_words.append(word)\n",
    "    word_count = len(filtered_words)\n",
    "    print(f\"There are {word_count} words in this script!\")\n",
    "\n",
    "    #WORD COUNT OF SPOKEN/NON SPOKEN WORDS IN SCRIPT\n"
   ]
  }
 ],
 "metadata": {
  "kernelspec": {
   "display_name": "Python 3",
   "language": "python",
   "name": "python3"
  },
  "language_info": {
   "codemirror_mode": {
    "name": "ipython",
    "version": 3
   },
   "file_extension": ".py",
   "mimetype": "text/x-python",
   "name": "python",
   "nbconvert_exporter": "python",
   "pygments_lexer": "ipython3",
   "version": "3.11.5"
  },
  "orig_nbformat": 4
 },
 "nbformat": 4,
 "nbformat_minor": 2
}
