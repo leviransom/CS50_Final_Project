{
 "cells": [
  {
   "cell_type": "code",
   "execution_count": 2,
   "metadata": {
    "tags": [
     "requests information from the following URL"
    ]
   },
   "outputs": [
    {
     "ename": "ModuleNotFoundError",
     "evalue": "No module named 'requests'",
     "output_type": "error",
     "traceback": [
      "\u001b[0;31m---------------------------------------------------------------------------\u001b[0m",
      "\u001b[0;31mModuleNotFoundError\u001b[0m                       Traceback (most recent call last)",
      "\u001b[1;32m/Users/leviransom/Documents/GitHub/CS50_Final_Project/requests.ipynb Cell 1\u001b[0m line \u001b[0;36m<cell line: 2>\u001b[0;34m()\u001b[0m\n\u001b[1;32m      <a href='vscode-notebook-cell:/Users/leviransom/Documents/GitHub/CS50_Final_Project/requests.ipynb#W0sZmlsZQ%3D%3D?line=0'>1</a>\u001b[0m \u001b[39mfrom\u001b[39;00m \u001b[39mbs4\u001b[39;00m \u001b[39mimport\u001b[39;00m BeautifulSoup\n\u001b[0;32m----> <a href='vscode-notebook-cell:/Users/leviransom/Documents/GitHub/CS50_Final_Project/requests.ipynb#W0sZmlsZQ%3D%3D?line=1'>2</a>\u001b[0m \u001b[39mimport\u001b[39;00m \u001b[39mrequests\u001b[39;00m\n\u001b[1;32m      <a href='vscode-notebook-cell:/Users/leviransom/Documents/GitHub/CS50_Final_Project/requests.ipynb#W0sZmlsZQ%3D%3D?line=2'>3</a>\u001b[0m r \u001b[39m=\u001b[39m requests\u001b[39m.\u001b[39mget(\u001b[39m\"\u001b[39m\u001b[39mhttps://imsdb.com/scripts/Joker.html\u001b[39m\u001b[39m\"\u001b[39m)\n\u001b[1;32m      <a href='vscode-notebook-cell:/Users/leviransom/Documents/GitHub/CS50_Final_Project/requests.ipynb#W0sZmlsZQ%3D%3D?line=3'>4</a>\u001b[0m \u001b[39mif\u001b[39;00m r\u001b[39m.\u001b[39mstatus_code \u001b[39m==\u001b[39m \u001b[39m200\u001b[39m:\n",
      "\u001b[0;31mModuleNotFoundError\u001b[0m: No module named 'requests'"
     ]
    }
   ],
   "source": [
    "from bs4 import BeautifulSoup\n",
    "import requests\n",
    "r = requests.get(\"https://imsdb.com/scripts/Joker.html\")\n",
    "if r.status_code == 200:\n",
    "    print(r)\n",
    "    print(dir(r))\n",
    "   # print(r._content)"
   ]
  },
  {
   "cell_type": "code",
   "execution_count": null,
   "metadata": {},
   "outputs": [],
   "source": [
    "\n",
    "r = requests.get(\"https://imsdb.com/scripts/Joker.html\")\n",
    "with open(\"scripts.txt\", \"w\") as file:\n",
    "    file.write(r.text)"
   ]
  },
  {
   "cell_type": "code",
   "execution_count": null,
   "metadata": {},
   "outputs": [],
   "source": [
    "from bs4 import BeautifulSoup\n",
    "\n",
    "#url = \"https://www.scrapethissite.com/pages/forms/\"\n",
    "url = \"https://imsdb.com/scripts/Joker.html\"\n",
    "page = requests.get(url)"
   ]
  },
  {
   "cell_type": "code",
   "execution_count": null,
   "metadata": {},
   "outputs": [],
   "source": [
    "soup = BeautifulSoup(page.text, \"html\")\n",
    "print(soup)\n",
    "#print(soup.prettify())"
   ]
  },
  {
   "cell_type": "code",
   "execution_count": null,
   "metadata": {},
   "outputs": [],
   "source": [
    "soup.find('div')"
   ]
  },
  {
   "cell_type": "code",
   "execution_count": null,
   "metadata": {},
   "outputs": [],
   "source": [
    "#soup.find_all('div')\n",
    "soup.find_all('pre')"
   ]
  },
  {
   "cell_type": "code",
   "execution_count": null,
   "metadata": {},
   "outputs": [],
   "source": [
    "from bs4 import BeautifulSoup\n",
    "import requests\n",
    "url = \"https://imsdb.com/scripts/Joker.html\"\n",
    "#url = \"https://imsdb.com/scripts/2012.html\"\n",
    "response = requests.get(url)\n",
    "soup = BeautifulSoup(response.text, \"html\")\n",
    "script = soup.find('pre')\n",
    "with open(\"script.txt\", \"w\") as file:\n",
    "    punctuation_marks = ['.', ',', ';', ':', \"'\", '\"', '!', '?', '-', '(', ')', '...', '&', '%', ' ']\n",
    "    file.write(script.text)\n",
    "    #for line in script.text:\n",
    "       # file.write(line)\n",
    "\n",
    "#CREATE A FILE OF SCRIPT INFO ONLY FROM IMSDb"
   ]
  },
  {
   "cell_type": "code",
   "execution_count": null,
   "metadata": {},
   "outputs": [
    {
     "name": "stdout",
     "output_type": "stream",
     "text": [
      "There are 4613 lines in this script!\n"
     ]
    }
   ],
   "source": [
    "with open(\"script.txt\", \"r\") as file:\n",
    "    counter = 0\n",
    "    for line in file:\n",
    "        if line.isspace():\n",
    "            continue\n",
    "        else:\n",
    "            counter += 1\n",
    "    print(f\"There are {counter} lines in this script!\")\n",
    "    #SCRIPT LINE COUNTER"
   ]
  },
  {
   "cell_type": "code",
   "execution_count": null,
   "metadata": {},
   "outputs": [
    {
     "name": "stdout",
     "output_type": "stream",
     "text": [
      "There are 26162 words in this script!\n"
     ]
    }
   ],
   "source": [
    "import re\n",
    "with open(\"script.txt\", \"r\") as file:\n",
    "    text = file.read()\n",
    "    words = text.split()\n",
    "    pattern = re.compile(r'^\\D+$')\n",
    "    filtered_words = []\n",
    "    for word in words:\n",
    "        if pattern.match(word):\n",
    "            filtered_words.append(word)\n",
    "    word_count = len(filtered_words)\n",
    "    print(f\"There are {word_count} words in this script!\")\n",
    "\n",
    "    #WORD COUNT OF SPOKEN/NON SPOKEN WORDS IN SCRIPT\n"
   ]
  },
  {
   "cell_type": "code",
   "execution_count": null,
   "metadata": {},
   "outputs": [
    {
     "ename": "FileNotFoundError",
     "evalue": "[Errno 2] No such file or directory: 'script.txt'",
     "output_type": "error",
     "traceback": [
      "\u001b[0;31m---------------------------------------------------------------------------\u001b[0m",
      "\u001b[0;31mFileNotFoundError\u001b[0m                         Traceback (most recent call last)",
      "\u001b[1;32m/Users/leviransom/Documents/GitHub/CS50_Final_Project/requests.ipynb Cell 10\u001b[0m line \u001b[0;36m<cell line: 1>\u001b[0;34m()\u001b[0m\n\u001b[0;32m----> <a href='vscode-notebook-cell:/Users/leviransom/Documents/GitHub/CS50_Final_Project/requests.ipynb#X13sZmlsZQ%3D%3D?line=0'>1</a>\u001b[0m \u001b[39mwith\u001b[39;00m \u001b[39mopen\u001b[39;49m(\u001b[39m\"\u001b[39;49m\u001b[39mscript.txt\u001b[39;49m\u001b[39m\"\u001b[39;49m, \u001b[39m\"\u001b[39;49m\u001b[39mr\u001b[39;49m\u001b[39m\"\u001b[39;49m) \u001b[39mas\u001b[39;00m file:\n\u001b[1;32m      <a href='vscode-notebook-cell:/Users/leviransom/Documents/GitHub/CS50_Final_Project/requests.ipynb#X13sZmlsZQ%3D%3D?line=1'>2</a>\u001b[0m     spec_word \u001b[39m=\u001b[39m \u001b[39minput\u001b[39m(\u001b[39m\"\u001b[39m\u001b[39mInsert a word: \u001b[39m\u001b[39m\"\u001b[39m)\u001b[39m.\u001b[39mlower()\n\u001b[1;32m      <a href='vscode-notebook-cell:/Users/leviransom/Documents/GitHub/CS50_Final_Project/requests.ipynb#X13sZmlsZQ%3D%3D?line=2'>3</a>\u001b[0m     pattern \u001b[39m=\u001b[39m re\u001b[39m.\u001b[39mcompile(\u001b[39mfr\u001b[39m\u001b[39m\"\u001b[39m\u001b[39m^\u001b[39m\u001b[39m\\\u001b[39m\u001b[39mb\u001b[39m\u001b[39m{\u001b[39;00mspec_word\u001b[39m}\u001b[39;00m\u001b[39m\\\u001b[39m\u001b[39mb\u001b[39m\u001b[39m\"\u001b[39m)\n",
      "\u001b[0;31mFileNotFoundError\u001b[0m: [Errno 2] No such file or directory: 'script.txt'"
     ]
    }
   ],
   "source": [
    "with open(\"script.txt\", \"r\") as file:\n",
    "    spec_word = input(\"Insert a word: \").lower()\n",
    "    pattern = re.compile(fr\"^\\b{spec_word}\\b\")\n",
    "    counter = 0\n",
    "    for line in file:\n",
    "        words = line.split()\n",
    "        for word in words:\n",
    "            if pattern.match(word.lower()):\n",
    "                counter += 1\n",
    "    print(f\"The word {spec_word} is used {counter} times\")\n",
    "\n",
    "    #SPECIFIC WORD COUNTER"
   ]
  }
 ],
 "metadata": {
  "kernelspec": {
   "display_name": "Python 3",
   "language": "python",
   "name": "python3"
  },
  "language_info": {
   "codemirror_mode": {
    "name": "ipython",
    "version": 3
   },
   "file_extension": ".py",
   "mimetype": "text/x-python",
   "name": "python",
   "nbconvert_exporter": "python",
   "pygments_lexer": "ipython3",
   "version": "3.10.6"
  },
  "orig_nbformat": 4
 },
 "nbformat": 4,
 "nbformat_minor": 2
}
